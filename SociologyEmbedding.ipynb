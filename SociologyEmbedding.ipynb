{
  "nbformat": 4,
  "nbformat_minor": 0,
  "metadata": {
    "colab": {
      "name": "SociologyEmbedding.ipynb",
      "provenance": [],
      "collapsed_sections": []
    },
    "kernelspec": {
      "name": "python3",
      "display_name": "Python 3"
    },
    "language_info": {
      "name": "python"
    }
  },
  "cells": [
    {
      "cell_type": "code",
      "metadata": {
        "colab": {
          "base_uri": "https://localhost:8080/"
        },
        "id": "Fl9Pq8HU-iH7",
        "outputId": "0a7ee8d4-df5c-4536-fc9e-8447a6a7626d"
      },
      "source": [
        "# install dependencies\n",
        "!git clone https://github.com/facebookresearch/fastText.git\n",
        "%cd fastText\n",
        "!pip install .\n",
        "%cd ..\n",
        "!pip install numpy"
      ],
      "execution_count": 2,
      "outputs": [
        {
          "output_type": "stream",
          "name": "stdout",
          "text": [
            "Cloning into 'fastText'...\n",
            "remote: Enumerating objects: 3854, done.\u001b[K\n",
            "remote: Total 3854 (delta 0), reused 0 (delta 0), pack-reused 3854\u001b[K\n",
            "Receiving objects: 100% (3854/3854), 8.22 MiB | 21.54 MiB/s, done.\n",
            "Resolving deltas: 100% (2417/2417), done.\n",
            "/content/fastText\n",
            "Processing /content/fastText\n",
            "\u001b[33m  DEPRECATION: A future pip version will change local packages to be built in-place without first copying to a temporary directory. We recommend you use --use-feature=in-tree-build to test your packages with this new behavior before it becomes the default.\n",
            "   pip 21.3 will remove support for this functionality. You can find discussion regarding this at https://github.com/pypa/pip/issues/7555.\u001b[0m\n",
            "Collecting pybind11>=2.2\n",
            "  Using cached pybind11-2.8.1-py2.py3-none-any.whl (208 kB)\n",
            "Requirement already satisfied: setuptools>=0.7.0 in /usr/local/lib/python3.7/dist-packages (from fasttext==0.9.2) (57.4.0)\n",
            "Requirement already satisfied: numpy in /usr/local/lib/python3.7/dist-packages (from fasttext==0.9.2) (1.19.5)\n",
            "Building wheels for collected packages: fasttext\n",
            "  Building wheel for fasttext (setup.py) ... \u001b[?25l\u001b[?25hdone\n",
            "  Created wheel for fasttext: filename=fasttext-0.9.2-cp37-cp37m-linux_x86_64.whl size=3116502 sha256=f04851944f9ad90730468ff495a1988887a3941e30c63c98d3f864c0a0011f94\n",
            "  Stored in directory: /tmp/pip-ephem-wheel-cache-nylgklpd/wheels/22/04/6e/b3aba25c1a5845898b5871a0df37c2126cb0cc9326ad0c08e7\n",
            "Successfully built fasttext\n",
            "Installing collected packages: pybind11, fasttext\n",
            "Successfully installed fasttext-0.9.2 pybind11-2.8.1\n",
            "/content\n",
            "Requirement already satisfied: numpy in /usr/local/lib/python3.7/dist-packages (1.19.5)\n"
          ]
        }
      ]
    },
    {
      "cell_type": "code",
      "metadata": {
        "id": "StzZ2s2NAQZ-"
      },
      "source": [
        "import fasttext\n",
        "import fasttext.util\n",
        "import numpy as np"
      ],
      "execution_count": 3,
      "outputs": []
    },
    {
      "cell_type": "code",
      "metadata": {
        "colab": {
          "base_uri": "https://localhost:8080/"
        },
        "id": "ewuWOuof_wz3",
        "outputId": "98311123-5163-470c-98e3-5a2f514ae9f2"
      },
      "source": [
        "# download embedding model\n",
        "# fasttext.util.download_model('fa', if_exists='ignore') # its took long time so I decide to download it from my drive\n",
        "# https://drive.google.com/file/d/1GrJ_qknqfLQJ436zBt9dQwY-6WZWKpP9/view\n",
        "!gdown --id 1GrJ_qknqfLQJ436zBt9dQwY-6WZWKpP9"
      ],
      "execution_count": 4,
      "outputs": [
        {
          "output_type": "stream",
          "name": "stdout",
          "text": [
            "Downloading...\n",
            "From: https://drive.google.com/uc?id=1GrJ_qknqfLQJ436zBt9dQwY-6WZWKpP9\n",
            "To: /content/cc.fa.300.bin\n",
            "100% 7.25G/7.25G [01:47<00:00, 67.5MB/s]\n"
          ]
        }
      ]
    },
    {
      "cell_type": "markdown",
      "metadata": {
        "id": "Df8ZBmcSEHU9"
      },
      "source": [
        "This model trained on persian wikipedia and some common words."
      ]
    },
    {
      "cell_type": "code",
      "metadata": {
        "id": "i6jTHjkcAUlW"
      },
      "source": [
        "# load model\n",
        "model = fasttext.load_model('cc.fa.300.bin')"
      ],
      "execution_count": 5,
      "outputs": []
    },
    {
      "cell_type": "code",
      "metadata": {
        "colab": {
          "base_uri": "https://localhost:8080/"
        },
        "id": "DkXoaW-UAf29",
        "outputId": "664c53bb-87f1-432c-d5fd-c6eb362157a3"
      },
      "source": [
        "print(model.get_dimension())   # number of dimensions"
      ],
      "execution_count": 7,
      "outputs": [
        {
          "output_type": "stream",
          "name": "stdout",
          "text": [
            "300\n"
          ]
        }
      ]
    },
    {
      "cell_type": "code",
      "metadata": {
        "id": "irAVadtLAo-c"
      },
      "source": [
        "def singleword2vec(wd):\n",
        "  wd = wd.strip()\n",
        "  vec = model.get_word_vector(wd)\n",
        "  return vec"
      ],
      "execution_count": 8,
      "outputs": []
    },
    {
      "cell_type": "code",
      "metadata": {
        "id": "hnK8Ua_mBQLN"
      },
      "source": [
        "def difference(w1, w2):\n",
        "  vec1 = np.array(singleword2vec(w1))\n",
        "  vec2 = np.array(singleword2vec(w2))\n",
        "  r = vec1 - vec2\n",
        "  return np.linalg.norm(r)"
      ],
      "execution_count": 9,
      "outputs": []
    },
    {
      "cell_type": "code",
      "metadata": {
        "colab": {
          "base_uri": "https://localhost:8080/"
        },
        "id": "wp4HZusrEVKo",
        "outputId": "9563acff-1d5e-4803-e98f-9d3bd34ba41d"
      },
      "source": [
        "# racism example\n",
        "num1 = difference(\"سفید\",\"انسان\")\n",
        "num2 = difference(\"سیاه\",\"انسان\")\n",
        "dif = np.absolute(num1 - num2)\n",
        "print(\"white and human: \", num1)\n",
        "print(\"black and human: \", num2)\n",
        "print(\"diference(zero mean no racism): \", dif)"
      ],
      "execution_count": 10,
      "outputs": [
        {
          "output_type": "stream",
          "name": "stdout",
          "text": [
            "white and human:  1.2154062\n",
            "black and human:  1.2712024\n",
            "diference(zero mean no racism):  0.055796266\n"
          ]
        }
      ]
    },
    {
      "cell_type": "code",
      "metadata": {
        "colab": {
          "base_uri": "https://localhost:8080/"
        },
        "id": "gWW2rIGIGtZF",
        "outputId": "753878e7-1d06-41a9-9261-8169d1da2ad1"
      },
      "source": [
        "# sexism example\n",
        "num1 = difference(\"مرد\",\"سنگ\")\n",
        "num2 = difference(\"زن\",\"سنگ\")\n",
        "dif = np.absolute(num1 - num2)\n",
        "print(\"white and human: \", num1)\n",
        "print(\"black and human: \", num2)\n",
        "print(\"diference(zero mean no sexism): \", dif)"
      ],
      "execution_count": 12,
      "outputs": [
        {
          "output_type": "stream",
          "name": "stdout",
          "text": [
            "white and human:  2.0089982\n",
            "black and human:  3.1639984\n",
            "diference(zero mean no sexism):  1.1550002\n"
          ]
        }
      ]
    },
    {
      "cell_type": "code",
      "metadata": {
        "id": "vdXKpkEUMbSZ"
      },
      "source": [
        ""
      ],
      "execution_count": null,
      "outputs": []
    }
  ]
}